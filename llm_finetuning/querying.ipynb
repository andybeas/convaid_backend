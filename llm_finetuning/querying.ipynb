{
 "cells": [
  {
   "cell_type": "code",
   "execution_count": 6,
   "metadata": {},
   "outputs": [],
   "source": [
    "from prompts import get_code_gen_prompt\n",
    "from unit_functions import *  # noqa\n"
   ]
  },
  {
   "cell_type": "code",
   "execution_count": 8,
   "metadata": {},
   "outputs": [],
   "source": [
    "few_shot_ex = \"\"\"Few example questions, which are not answerable:\n",
    "            \"\"\""
   ]
  },
  {
   "cell_type": "code",
   "execution_count": null,
   "metadata": {},
   "outputs": [],
   "source": [
    "# get_code_gen_prompt()"
   ]
  },
  {
   "cell_type": "code",
   "execution_count": 3,
   "metadata": {},
   "outputs": [],
   "source": [
    "import pandas as pd\n",
    "f = open(\"df_metadata.json\", 'r')\n",
    "metadata_dict = pd.read_json(f.read()).to_dict()\n",
    "\n",
    "\n",
    "sample_df = pd.read_csv(\"acs_data.csv\")"
   ]
  },
  {
   "cell_type": "code",
   "execution_count": 4,
   "metadata": {},
   "outputs": [
    {
     "data": {
      "text/plain": [
       "{'row': {'description': 'daily subscription orders',\n",
       "  'TractId': nan,\n",
       "  'State': nan,\n",
       "  'County': nan,\n",
       "  'TotalPop': nan,\n",
       "  'Men': nan,\n",
       "  'Women': nan,\n",
       "  'Hispanic': nan,\n",
       "  'White': nan,\n",
       "  'Black': nan,\n",
       "  'Native': nan,\n",
       "  'Asian': nan,\n",
       "  'Pacific': nan,\n",
       "  'VotingAgeCitizen': nan,\n",
       "  'Income': nan,\n",
       "  'IncomeErr': nan,\n",
       "  'IncomePerCap': nan,\n",
       "  'IncomePerCapErr': nan,\n",
       "  'Poverty': nan,\n",
       "  'ChildPoverty': nan,\n",
       "  'Professional': nan,\n",
       "  'Service': nan,\n",
       "  'Office': nan,\n",
       "  'Construction': nan,\n",
       "  'Production': nan,\n",
       "  'Drive': nan,\n",
       "  'Carpool': nan,\n",
       "  'Transit': nan,\n",
       "  'Walk': nan,\n",
       "  'OtherTransp': nan,\n",
       "  'WorkAtHome': nan,\n",
       "  'MeanCommute': nan,\n",
       "  'Employed': nan,\n",
       "  'PrivateWork': nan,\n",
       "  'PublicWork': nan,\n",
       "  'SelfEmployed': nan,\n",
       "  'FamilyWork': nan,\n",
       "  'Unemployment': nan},\n",
       " 'columns': {'description': nan,\n",
       "  'TractId': {'column_description': 'This column indicates the identification number for a particular census tract.',\n",
       "   'dtype': 'int64'},\n",
       "  'State': {'column_description': 'This column indicates the state or province within a particular country.',\n",
       "   'dtype': 'object'},\n",
       "  'County': {'column_description': 'This column indicates the name of the county under any particular state.',\n",
       "   'dtype': 'object'},\n",
       "  'TotalPop': {'column_description': 'This column contains the total population in a county.',\n",
       "   'dtype': 'int64'},\n",
       "  'Men': {'column_description': 'This column contains the total men population in a county.',\n",
       "   'dtype': 'int64'},\n",
       "  'Women': {'column_description': 'This column contains the total women population in a county.',\n",
       "   'dtype': 'int64'},\n",
       "  'Hispanic': {'column_description': 'This column contains the percentage of total Hispanic population in a county.',\n",
       "   'dtype': 'float64'},\n",
       "  'White': {'column_description': 'This column contains the percentage of total White population in a county.',\n",
       "   'dtype': 'float64'},\n",
       "  'Black': {'column_description': 'This column contains the percentage of total Black population in a county.',\n",
       "   'dtype': 'float64'},\n",
       "  'Native': {'column_description': 'This column contains the percentage of total native population in a county.',\n",
       "   'dtype': 'float64'},\n",
       "  'Asian': {'column_description': 'This column contains the percentage of total Asian population in a county.',\n",
       "   'dtype': 'float64'},\n",
       "  'Pacific': {'column_description': 'This column contains the percentage of total Pacific population in a county.',\n",
       "   'dtype': 'float64'},\n",
       "  'VotingAgeCitizen': {'column_description': 'This column contains the total number citizens meeting the criteria of both citizenship and the minimum age required to vote within a county.',\n",
       "   'dtype': 'int64'},\n",
       "  'Income': {'column_description': 'This column contains the average earnings across the population within a county.',\n",
       "   'dtype': 'float64'},\n",
       "  'IncomeErr': {'column_description': 'This column contains the margin of error or uncertainty associated with the reported income figures within a county.',\n",
       "   'dtype': 'float64'},\n",
       "  'IncomePerCap': {'column_description': 'This column contains the average of the income earned per person within a county.',\n",
       "   'dtype': 'float64'},\n",
       "  'IncomePerCapErr': {'column_description': 'This column contains the margin of error or uncertainty related to the calculated average income per capita within a county.',\n",
       "   'dtype': 'float64'},\n",
       "  'Poverty': {'column_description': 'This column contains the percentage of total number of people who are living in poverty in a county.',\n",
       "   'dtype': 'float64'},\n",
       "  'ChildPoverty': {'column_description': 'This column contains the percentage of children living in poverty in a county.',\n",
       "   'dtype': 'float64'},\n",
       "  'Professional': {'column_description': 'This column contains the percentage of people who are qualified to provide professional services in a county.',\n",
       "   'dtype': 'float64'},\n",
       "  'Service': {'column_description': 'This column contains the percentage of people who provide non-professional services in a county.',\n",
       "   'dtype': 'float64'},\n",
       "  'Office': {'column_description': 'This column contains the percentage of offices in a county.',\n",
       "   'dtype': 'float64'},\n",
       "  'Construction': {'column_description': 'This column contains the percentage of construction industries in a county.',\n",
       "   'dtype': 'float64'},\n",
       "  'Production': {'column_description': 'This column contains the percentage of people on the production line and produce goods in a county.',\n",
       "   'dtype': 'float64'},\n",
       "  'Drive': {'column_description': 'This column contains the percentage of people who owns a vehicle and drive it in a county.',\n",
       "   'dtype': 'float64'},\n",
       "  'Carpool': {'column_description': 'This column contains the percentage of people who use carpool in a county.',\n",
       "   'dtype': 'float64'},\n",
       "  'Transit': {'column_description': 'This column contains the percentage of people who use public transit in a county.',\n",
       "   'dtype': 'float64'},\n",
       "  'Walk': {'column_description': 'This column contains the percentage of people who walk to work/school within a county.',\n",
       "   'dtype': 'float64'},\n",
       "  'OtherTransp': {'column_description': 'This column contains the percentage of people who use other modes of transportation other than walk in a county.',\n",
       "   'dtype': 'float64'},\n",
       "  'WorkAtHome': {'column_description': 'This column contains the percentage of people who works at home in a county.',\n",
       "   'dtype': 'float64'},\n",
       "  'MeanCommute': {'column_description': 'This column contains the average commute time for commuters in minutes in a county.',\n",
       "   'dtype': 'float64'},\n",
       "  'Employed': {'column_description': 'This column contains the total number of employed adults in a county.',\n",
       "   'dtype': 'int64'},\n",
       "  'PrivateWork': {'column_description': 'This column contains the percentage of people who do private work in a county.',\n",
       "   'dtype': 'float64'},\n",
       "  'PublicWork': {'column_description': 'This column contains the percentage of people who do public or government project works undertaken within a county.',\n",
       "   'dtype': 'float64'},\n",
       "  'SelfEmployed': {'column_description': 'This column contains the percentage of people who are self-employed in a county.',\n",
       "   'dtype': 'float64'},\n",
       "  'FamilyWork': {'column_description': 'This column contains the percentage of people who do family work in a county.',\n",
       "   'dtype': 'float64'},\n",
       "  'Unemployment': {'column_description': 'This column contains the percentage of unemployed workforce in a county.',\n",
       "   'dtype': 'float64'}}}"
      ]
     },
     "execution_count": 4,
     "metadata": {},
     "output_type": "execute_result"
    }
   ],
   "source": [
    "metadata_dict"
   ]
  },
  {
   "cell_type": "code",
   "execution_count": 9,
   "metadata": {},
   "outputs": [],
   "source": [
    "prompt = get_code_gen_prompt(metadata_dict, few_shot_ex)"
   ]
  },
  {
   "cell_type": "code",
   "execution_count": 10,
   "metadata": {},
   "outputs": [],
   "source": [
    "# user_query = \"Can you provide the wow_growth_median increase in income for residents in Alabama\"\n",
    "\n",
    "# user_query = \"Find the percentage of Hispanic population in a given census tract 1001020300.\"\n",
    "\n",
    "user_query = \"Find the trends in income for residents in Alabama\""
   ]
  },
  {
   "cell_type": "code",
   "execution_count": null,
   "metadata": {},
   "outputs": [],
   "source": [
    "import openai\n",
    "openai.api_key = \"\"\n",
    "response = openai.ChatCompletion.create(\n",
    "              model=\"gpt-4\",\n",
    "              messages=[{\"role\": \"system\", \"content\": prompt},\n",
    "                        {\"role\": \"user\", \"content\": user_query}\n",
    "              ])"
   ]
  },
  {
   "cell_type": "code",
   "execution_count": 12,
   "metadata": {},
   "outputs": [],
   "source": [
    "response = response[\"choices\"][0][\"message\"][\"content\"]"
   ]
  },
  {
   "cell_type": "code",
   "execution_count": 13,
   "metadata": {},
   "outputs": [
    {
     "name": "stdout",
     "output_type": "stream",
     "text": [
      "# First, filter the 'sample_df' to get only the rows for Alabama\n",
      "filtered_df = filter_on_col(sample_df, 'State', 'Alabama')\n",
      "\n",
      "# Next, calculate the median of 'Income' in 'filtered_df' for each state\n",
      "income_trends_df = value_median_df(filtered_df, 'State', 'Income')\n",
      "\n",
      "print(income_trends_df)\n",
      "     State   Income\n",
      "0  Alabama  41757.5\n"
     ]
    }
   ],
   "source": [
    "print(response)\n",
    "\n",
    "if \"incomplete\" in response:\n",
    "    print(\"Not Answerable from data/question\")\n",
    "else:\n",
    "    try:\n",
    "        exec(response)\n",
    "    except Exception as e:\n",
    "        response = openai.ChatCompletion.create(\n",
    "              model=\"gpt-4\",\n",
    "              messages=[{\"role\": \"system\", \"content\": prompt},\n",
    "                        {\"role\": \"user\", \"content\": user_query}\n",
    "              ])\n",
    "        response = response[\"choices\"][0][\"message\"][\"content\"]\n",
    "        try:\n",
    "            exec(response)\n",
    "        except Exception as e:\n",
    "            print(\"Not Answerable from data/question\")"
   ]
  },
  {
   "cell_type": "code",
   "execution_count": null,
   "metadata": {},
   "outputs": [],
   "source": [
    "#trends in income for residents in Alabama"
   ]
  }
 ],
 "metadata": {
  "kernelspec": {
   "display_name": "py39",
   "language": "python",
   "name": "python3"
  },
  "language_info": {
   "codemirror_mode": {
    "name": "ipython",
    "version": 3
   },
   "file_extension": ".py",
   "mimetype": "text/x-python",
   "name": "python",
   "nbconvert_exporter": "python",
   "pygments_lexer": "ipython3",
   "version": "3.9.18"
  }
 },
 "nbformat": 4,
 "nbformat_minor": 2
}
